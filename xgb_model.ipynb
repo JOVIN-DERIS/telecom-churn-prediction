{
 "cells": [
  {
   "cell_type": "code",
   "execution_count": 22,
   "id": "4fbebdc2-3d0b-43d7-920c-d25c34e05633",
   "metadata": {},
   "outputs": [],
   "source": [
    "import pandas as pd\n",
    "import numpy as np\n",
    "import seaborn as sns\n",
    "import matplotlib.pyplot as plt\n",
    "from sklearn.preprocessing import StandardScaler,LabelEncoder\n",
    "from xgboost import XGBClassifier\n",
    "from sklearn.model_selection import train_test_split\n",
    "import joblib"
   ]
  },
  {
   "cell_type": "code",
   "execution_count": 31,
   "id": "e23cdbfb-f822-46e4-8379-808370d74372",
   "metadata": {},
   "outputs": [
    {
     "name": "stdout",
     "output_type": "stream",
     "text": [
      "✅ Model, Scaler & Feature Names Saved!\n"
     ]
    }
   ],
   "source": [
    "df=pd.read_csv(\"churn.csv\")\n",
    "df.drop(columns=\"Unnamed: 0\",inplace=True)\n",
    "df[[\"day.charge\",\"eve.mins\"]]=df[[\"day.charge\",\"eve.mins\"]].apply(pd.to_numeric,errors=\"coerce\")\n",
    "df[\"day.charge\"]=df[\"day.charge\"].fillna(df['day.charge'].median())\n",
    "df[\"eve.mins\"]=df[\"eve.mins\"].fillna(df['eve.mins'].median())\n",
    "cat_col=df.columns[df.dtypes=='O']\n",
    "num_col=df.columns[df.dtypes!='O']\n",
    "\n",
    "# Function to remove outliers using IQR\n",
    "def remove_outliers_iqr(df,column):\n",
    "    Q1 = df[column].quantile(0.25)\n",
    "    Q3 = df[column].quantile(0.75)\n",
    "    IQR = Q3 - Q1\n",
    "    lower_bound = Q1 - 1.5 * IQR\n",
    "    upper_bound = Q3 + 1.5 * IQR\n",
    "    \n",
    "    # Remove outliers\n",
    "    df = df[(df[column] >= lower_bound) & (df[column] <= upper_bound)]\n",
    "    return df\n",
    "\n",
    "for col in num_col:\n",
    "    df=remove_outliers_iqr(df,col)\n",
    "\n",
    "df['voice.messages']= np.log1p(df['voice.messages'])\n",
    "df['intl.calls']= np.log1p(df['intl.calls'])\n",
    "\n",
    "\n",
    "def find_multicollinear_features(dataset, threshold=0.8):\n",
    "    r = dataset.corr()  # Compute correlation matrix\n",
    "    col_corr = set()  # Store highly correlated columns\n",
    "    \n",
    "    for i in range(len(r.columns)):\n",
    "        for j in range(i):\n",
    "            if abs(r.iloc[i, j]) > threshold:  # Check correlation magnitude\n",
    "                col_name = r.columns[i]\n",
    "                col_corr.add(col_name)  # Add column to set\n",
    "                \n",
    "    return col_corr\n",
    "\n",
    "high_corr_features = find_multicollinear_features(df[num_col], 0.7)\n",
    "df.drop(columns=['day.charge', 'intl.charge', 'night.charge', 'eve.charge'],inplace=True)\n",
    "num_col_af=df.columns[df.dtypes!=\"O\"]\n",
    "\n",
    "df = pd.get_dummies(df, columns=['state'], drop_first=True)\n",
    "df = pd.get_dummies(df, columns=['area.code'], drop_first=True)\n",
    "scal=StandardScaler()\n",
    "lab=LabelEncoder()\n",
    "df[num_col_af]=scal.fit_transform(df[num_col_af])\n",
    "## labeling for catagorical columns and target column\n",
    "for col in df[['voice.plan', 'intl.plan', 'churn']]:\n",
    "   df[col]=lab.fit_transform(df[col])\n",
    "    \n",
    "training_columns = df.drop(columns=['churn']).columns\n",
    "x=df.drop(columns=\"churn\")\n",
    "y=df[\"churn\"]\n",
    "x_train,x_test,y_train,y_test=train_test_split(x,y,random_state=42,test_size=0.2)  \n",
    "\n",
    "\n",
    "xgb_model = XGBClassifier(subsample=0.9,n_estimators=100,max_depth=7,learning_rate=0.1,colsample_bytree=0.8)\n",
    "xgb_model.fit(x_train, y_train)\n",
    "\n",
    "# Save Model\n",
    "joblib.dump(xgb_model,\"xgb_model.pkl\")\n",
    "# Save Scaler\n",
    "joblib.dump(scal, \"scaler.pkl\")\n",
    "# Save Feature Names\n",
    "joblib.dump(list(x_train.columns), \"feature_names.pkl\")\n",
    "\n",
    "print(\"✅ Model, Scaler & Feature Names Saved!\")\n",
    "\n"
   ]
  },
  {
   "cell_type": "code",
   "execution_count": null,
   "id": "ec1e39d8-6c77-469a-86a3-704f5e8c0092",
   "metadata": {},
   "outputs": [],
   "source": []
  },
  {
   "cell_type": "code",
   "execution_count": null,
   "id": "0a690ef2-4735-47bd-bd37-65daab7c9a86",
   "metadata": {},
   "outputs": [],
   "source": []
  },
  {
   "cell_type": "code",
   "execution_count": null,
   "id": "ad43ff77-4996-4e45-a8c2-9ab8d3deece2",
   "metadata": {},
   "outputs": [],
   "source": []
  }
 ],
 "metadata": {
  "kernelspec": {
   "display_name": "Python 3 (ipykernel)",
   "language": "python",
   "name": "python3"
  },
  "language_info": {
   "codemirror_mode": {
    "name": "ipython",
    "version": 3
   },
   "file_extension": ".py",
   "mimetype": "text/x-python",
   "name": "python",
   "nbconvert_exporter": "python",
   "pygments_lexer": "ipython3",
   "version": "3.12.3"
  }
 },
 "nbformat": 4,
 "nbformat_minor": 5
}
